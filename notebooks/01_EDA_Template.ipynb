{
 "cells": [
  {
   "cell_type": "markdown",
   "id": "8e1fdc38-826e-4dde-93fd-a56526f7c7d2",
   "metadata": {},
   "source": [
    "# Exploratory Data Analysis Notebook"
   ]
  },
  {
   "cell_type": "markdown",
   "id": "3012a012-49fc-4f4d-8f84-6385932a71a7",
   "metadata": {},
   "source": [
    "## Project Description"
   ]
  },
  {
   "cell_type": "markdown",
   "id": "2637b1fe-fb62-4fa5-86ce-2d807ee19921",
   "metadata": {},
   "source": [
    "## Package Importing"
   ]
  },
  {
   "cell_type": "code",
   "execution_count": 1,
   "id": "75e347cd-e2f8-4270-9b14-041e4028aab7",
   "metadata": {},
   "outputs": [],
   "source": [
    "import pandas as pd\n",
    "import matplotlib.pyplot as  plt\n",
    "import sklearn\n",
    "import pandas_profiling\n",
    "import seaborn as sns\n",
    "import popmon\n",
    "from sklearn.model_selection import KFold\n",
    "import time\n",
    "import sys\n",
    "import datetime\n",
    "from sklearn import metrics"
   ]
  },
  {
   "cell_type": "markdown",
   "id": "c4b13bab-9a46-4bb1-85d9-96fb9772c522",
   "metadata": {},
   "source": [
    "## Data Importing"
   ]
  },
  {
   "cell_type": "code",
   "execution_count": null,
   "id": "a851cfe7-1f76-472a-9d3a-1d46b8daec9b",
   "metadata": {},
   "outputs": [],
   "source": [
    "folder_path = '../data/raw'\n",
    "train_data = pd.read_csv(f'{folder_path}/train.csv')\n",
    "test_data = pd.read_csv(f'{folder_path}/test.csv')\n",
    "sample = pd.read_csv(f'{folder_path}/sample_submission.csv')"
   ]
  },
  {
   "cell_type": "markdown",
   "id": "0bc979d8-e1e6-4100-a583-7629d84e7b3b",
   "metadata": {
    "tags": []
   },
   "source": [
    "## Dataset Summaries and Heads"
   ]
  },
  {
   "cell_type": "code",
   "execution_count": null,
   "id": "6402df72-9b00-4333-8f0b-a40f159af9e6",
   "metadata": {},
   "outputs": [],
   "source": [
    "print(\"{0}Number of rows in train data: {1}{2}\\n{0}Number of columns in train data: {1}{3}\".format(y_,r_,train_data.shape[0],train_data.shape[1]))\n",
    "print(\"{0}Number of rows in test data: {1}{2}\\n{0}Number of columns in test data: {1}{3}\".format(m_,r_,test_data.shape[0],test_data.shape[1]))\n",
    "print(\"{0}Number of rows in sample : {1}{2}\\n{0}Number of columns in sample : {1}{3}\".format(c_,r_,sample.shape[0],sample.shape[1]))"
   ]
  },
  {
   "cell_type": "code",
   "execution_count": null,
   "id": "e68b57a3-7d3d-4415-bf8e-967582d8d4f1",
   "metadata": {},
   "outputs": [],
   "source": [
    "train_data.head()"
   ]
  },
  {
   "cell_type": "code",
   "execution_count": null,
   "id": "a3db523c-372d-4635-b13d-3a2b312c9aaf",
   "metadata": {},
   "outputs": [],
   "source": [
    "test_data.head()"
   ]
  },
  {
   "cell_type": "code",
   "execution_count": null,
   "id": "963da1de-10ed-4bf0-bd8b-93dc0c78fab7",
   "metadata": {},
   "outputs": [],
   "source": [
    "sample.head()"
   ]
  },
  {
   "cell_type": "code",
   "execution_count": null,
   "id": "c9713b7e-ab43-4989-9e59-67c6732e3996",
   "metadata": {},
   "outputs": [],
   "source": [
    "# checking missing data\n",
    "total = train.isnull().sum().sort_values(ascending = False)\n",
    "percent = (train.isnull().sum()/train.isnull().count()*100).sort_values(ascending = False)\n",
    "missing_train_data  = pd.concat([total, percent], axis=1, keys=['Total', 'Percent'])"
   ]
  },
  {
   "cell_type": "markdown",
   "id": "0ec37804-858b-4d55-9808-4c410e5c4144",
   "metadata": {},
   "source": [
    "## Data Profiling"
   ]
  },
  {
   "cell_type": "code",
   "execution_count": null,
   "id": "cd0364fd-3e82-4454-b836-132f61078c16",
   "metadata": {},
   "outputs": [],
   "source": []
  },
  {
   "cell_type": "markdown",
   "id": "4566be91-7eeb-4e09-ae0f-840aeacdeff7",
   "metadata": {},
   "source": [
    "## Data Cleaning"
   ]
  },
  {
   "cell_type": "markdown",
   "id": "f6fc92bf-099e-4fcf-8c92-82512ff2c6df",
   "metadata": {},
   "source": [
    "## Clean Data Re-Profiling and Validation"
   ]
  }
 ],
 "metadata": {
  "kernelspec": {
   "display_name": "Python 3 (ipykernel)",
   "language": "python",
   "name": "python3"
  },
  "language_info": {
   "codemirror_mode": {
    "name": "ipython",
    "version": 3
   },
   "file_extension": ".py",
   "mimetype": "text/x-python",
   "name": "python",
   "nbconvert_exporter": "python",
   "pygments_lexer": "ipython3",
   "version": "3.10.5"
  }
 },
 "nbformat": 4,
 "nbformat_minor": 5
}
